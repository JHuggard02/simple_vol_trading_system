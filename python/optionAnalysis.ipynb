{
 "cells": [
  {
   "cell_type": "code",
   "execution_count": 1,
   "id": "57f45103",
   "metadata": {},
   "outputs": [],
   "source": [
    "import pricer"
   ]
  },
  {
   "cell_type": "code",
   "execution_count": 2,
   "id": "c4ddbc88",
   "metadata": {},
   "outputs": [
    {
     "name": "stdout",
     "output_type": "stream",
     "text": [
      "10.450583572185565\n"
     ]
    }
   ],
   "source": [
    "price = pricer.black_scholes_price(S=100, K=100, T=1, r=0.05, sigma=0.2, isCall=True)\n",
    "print(price)"
   ]
  },
  {
   "cell_type": "code",
   "execution_count": 3,
   "id": "571660dd",
   "metadata": {},
   "outputs": [],
   "source": [
    "iv = pricer.iv(S=100, K=100, T=1, r=0.05, initial_sigma=0.2, isCall=True, marketPrice=12)"
   ]
  },
  {
   "cell_type": "code",
   "execution_count": 4,
   "id": "09196d2a",
   "metadata": {},
   "outputs": [
    {
     "name": "stdout",
     "output_type": "stream",
     "text": [
      "0.24111689547354206\n"
     ]
    }
   ],
   "source": [
    "print(iv)"
   ]
  },
  {
   "cell_type": "code",
   "execution_count": null,
   "id": "be66ec78",
   "metadata": {},
   "outputs": [],
   "source": []
  }
 ],
 "metadata": {
  "kernelspec": {
   "display_name": "base",
   "language": "python",
   "name": "python3"
  },
  "language_info": {
   "codemirror_mode": {
    "name": "ipython",
    "version": 3
   },
   "file_extension": ".py",
   "mimetype": "text/x-python",
   "name": "python",
   "nbconvert_exporter": "python",
   "pygments_lexer": "ipython3",
   "version": "3.12.7"
  }
 },
 "nbformat": 4,
 "nbformat_minor": 5
}
